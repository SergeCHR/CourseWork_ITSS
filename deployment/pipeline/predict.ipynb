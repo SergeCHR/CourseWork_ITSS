{
 "cells": [
  {
   "cell_type": "code",
   "execution_count": 1,
   "id": "2cb603b4",
   "metadata": {},
   "outputs": [],
   "source": [
    "import pickle\n",
    "import pandas as pd\n",
    "import numpy as np\n",
    "from sklearn import metrics\n",
    "from sklearn.ensemble import RandomForestClassifier\n",
    "from sklearn.model_selection import train_test_split\n",
    "from sklearn.preprocessing import StandardScaler, LabelEncoder, label_binarize\n",
    "pd.set_option('display.max_columns', 500)\n",
    "pd.set_option('display.max_rows', 500)"
   ]
  },
  {
   "cell_type": "code",
   "execution_count": 2,
   "id": "dbae61e7",
   "metadata": {},
   "outputs": [],
   "source": [
    "# custom files\n",
    "import model_best_hyperparameters"
   ]
  },
  {
   "cell_type": "code",
   "execution_count": 3,
   "id": "6454b177",
   "metadata": {},
   "outputs": [
    {
     "name": "stdout",
     "output_type": "stream",
     "text": [
      "new data size (134, 7)\n"
     ]
    }
   ],
   "source": [
    "# read train data\n",
    "df = pd.read_csv(\"../data/new_data.csv\")\n",
    "print('new data size', df.shape)"
   ]
  },
  {
   "cell_type": "code",
   "execution_count": 4,
   "id": "86fc8a80",
   "metadata": {},
   "outputs": [],
   "source": [
    "# Створення нової колонки age_group\n",
    "age_bins = [0, 30, 60, np.inf]\n",
    "names = ['Youth', 'Adult', 'Senior']\n",
    "df['age_group'] = pd.cut(df['age'], age_bins, labels=names)\n",
    "\n",
    "# Створення нової колонки bmi_group\n",
    "weight_bins = [0, 18.5, 24.9, 29.9, np.inf]\n",
    "names = ['Underweight', 'Healthy weight', 'Overweight', 'Obese']\n",
    "df['bmi_group'] = pd.cut(df['bmi'], weight_bins, labels=names)\n",
    "\n",
    "# Розбиваємо charges на категорії\n",
    "charges_bins = [0, df['charges'].quantile(0.33), df['charges'].quantile(0.66), df['charges'].max()]\n",
    "names = ['Low', 'Medium', 'High']\n",
    "df['charges_cat'] = pd.cut(df['charges'], charges_bins, labels=names)"
   ]
  },
  {
   "cell_type": "code",
   "execution_count": 5,
   "id": "1506cf6d",
   "metadata": {},
   "outputs": [
    {
     "name": "stdout",
     "output_type": "stream",
     "text": [
      "   age  sex     bmi  children  smoker  region      charges  age_group  \\\n",
      "0   39    0  31.920         2       0       1   7209.49180          0   \n",
      "1   42    0  36.195         1       0       1   7443.64305          0   \n",
      "2   57    1  33.630         1       0       1  11945.13270          0   \n",
      "3   47    0  36.000         1       0       3   8556.90700          0   \n",
      "4   31    1  39.490         1       0       2   3875.73410          0   \n",
      "\n",
      "   bmi_group  charges_cat  \n",
      "0          1            2  \n",
      "1          1            2  \n",
      "2          1            2  \n",
      "3          1            2  \n",
      "4          1            1  \n"
     ]
    }
   ],
   "source": [
    "# Кодуємо категоріальні змінні\n",
    "le = LabelEncoder()\n",
    "for col in ['sex', 'smoker', 'region', 'age_group', 'bmi_group', 'charges_cat']:\n",
    "    df[col] = le.fit_transform(df[col])\n",
    "print(df.head())"
   ]
  },
  {
   "cell_type": "code",
   "execution_count": 6,
   "id": "d7c7fbd0",
   "metadata": {},
   "outputs": [],
   "source": [
    "# Видалення непотрібних стовпців\n",
    "columns_to_drop = ['age', 'bmi', 'children', 'charges']\n",
    "df = df.drop(columns_to_drop, axis=1)"
   ]
  },
  {
   "cell_type": "code",
   "execution_count": 7,
   "id": "299d41fa",
   "metadata": {},
   "outputs": [],
   "source": [
    "X = df.drop(['charges_cat'], axis=1)\n",
    "y = df['charges_cat']"
   ]
  },
  {
   "cell_type": "code",
   "execution_count": 8,
   "id": "74858201",
   "metadata": {},
   "outputs": [],
   "source": [
    "# load the model and predict\n",
    "knn = pickle.load(open('finalized_model.sav', 'rb'))"
   ]
  },
  {
   "cell_type": "code",
   "execution_count": 9,
   "id": "d5ae06cb",
   "metadata": {},
   "outputs": [],
   "source": [
    "y_pred = knn.predict(X.values)"
   ]
  },
  {
   "cell_type": "code",
   "execution_count": 12,
   "id": "6b300682",
   "metadata": {},
   "outputs": [],
   "source": [
    "predictions = knn.predict(X.values)\n",
    "original_labels = le.inverse_transform(predictions)\n",
    "original_charges_cat = le.inverse_transform(df['charges_cat'])\n",
    "df['charges_pred'] = original_labels\n",
    "df['charges_cat'] = original_charges_cat\n",
    "df.to_csv('prediction_results.csv', index=False)"
   ]
  },
  {
   "cell_type": "code",
   "execution_count": 13,
   "id": "726dcb67",
   "metadata": {},
   "outputs": [
    {
     "data": {
      "text/html": [
       "<div>\n",
       "<style scoped>\n",
       "    .dataframe tbody tr th:only-of-type {\n",
       "        vertical-align: middle;\n",
       "    }\n",
       "\n",
       "    .dataframe tbody tr th {\n",
       "        vertical-align: top;\n",
       "    }\n",
       "\n",
       "    .dataframe thead th {\n",
       "        text-align: right;\n",
       "    }\n",
       "</style>\n",
       "<table border=\"1\" class=\"dataframe\">\n",
       "  <thead>\n",
       "    <tr style=\"text-align: right;\">\n",
       "      <th></th>\n",
       "      <th>sex</th>\n",
       "      <th>smoker</th>\n",
       "      <th>region</th>\n",
       "      <th>age_group</th>\n",
       "      <th>bmi_group</th>\n",
       "      <th>charges_cat</th>\n",
       "      <th>charges_pred</th>\n",
       "    </tr>\n",
       "  </thead>\n",
       "  <tbody>\n",
       "    <tr>\n",
       "      <th>0</th>\n",
       "      <td>0</td>\n",
       "      <td>0</td>\n",
       "      <td>1</td>\n",
       "      <td>0</td>\n",
       "      <td>1</td>\n",
       "      <td>Medium</td>\n",
       "      <td>Medium</td>\n",
       "    </tr>\n",
       "    <tr>\n",
       "      <th>1</th>\n",
       "      <td>0</td>\n",
       "      <td>0</td>\n",
       "      <td>1</td>\n",
       "      <td>0</td>\n",
       "      <td>1</td>\n",
       "      <td>Medium</td>\n",
       "      <td>Medium</td>\n",
       "    </tr>\n",
       "    <tr>\n",
       "      <th>2</th>\n",
       "      <td>1</td>\n",
       "      <td>0</td>\n",
       "      <td>1</td>\n",
       "      <td>0</td>\n",
       "      <td>1</td>\n",
       "      <td>Medium</td>\n",
       "      <td>Medium</td>\n",
       "    </tr>\n",
       "    <tr>\n",
       "      <th>3</th>\n",
       "      <td>0</td>\n",
       "      <td>0</td>\n",
       "      <td>3</td>\n",
       "      <td>0</td>\n",
       "      <td>1</td>\n",
       "      <td>Medium</td>\n",
       "      <td>Medium</td>\n",
       "    </tr>\n",
       "    <tr>\n",
       "      <th>4</th>\n",
       "      <td>1</td>\n",
       "      <td>0</td>\n",
       "      <td>2</td>\n",
       "      <td>0</td>\n",
       "      <td>1</td>\n",
       "      <td>Low</td>\n",
       "      <td>Medium</td>\n",
       "    </tr>\n",
       "    <tr>\n",
       "      <th>5</th>\n",
       "      <td>1</td>\n",
       "      <td>1</td>\n",
       "      <td>3</td>\n",
       "      <td>2</td>\n",
       "      <td>1</td>\n",
       "      <td>High</td>\n",
       "      <td>High</td>\n",
       "    </tr>\n",
       "    <tr>\n",
       "      <th>6</th>\n",
       "      <td>1</td>\n",
       "      <td>0</td>\n",
       "      <td>2</td>\n",
       "      <td>0</td>\n",
       "      <td>1</td>\n",
       "      <td>Low</td>\n",
       "      <td>Medium</td>\n",
       "    </tr>\n",
       "    <tr>\n",
       "      <th>7</th>\n",
       "      <td>0</td>\n",
       "      <td>1</td>\n",
       "      <td>0</td>\n",
       "      <td>0</td>\n",
       "      <td>0</td>\n",
       "      <td>High</td>\n",
       "      <td>High</td>\n",
       "    </tr>\n",
       "    <tr>\n",
       "      <th>8</th>\n",
       "      <td>1</td>\n",
       "      <td>0</td>\n",
       "      <td>0</td>\n",
       "      <td>2</td>\n",
       "      <td>0</td>\n",
       "      <td>Low</td>\n",
       "      <td>Low</td>\n",
       "    </tr>\n",
       "    <tr>\n",
       "      <th>9</th>\n",
       "      <td>0</td>\n",
       "      <td>0</td>\n",
       "      <td>2</td>\n",
       "      <td>0</td>\n",
       "      <td>2</td>\n",
       "      <td>Medium</td>\n",
       "      <td>Medium</td>\n",
       "    </tr>\n",
       "  </tbody>\n",
       "</table>\n",
       "</div>"
      ],
      "text/plain": [
       "   sex  smoker  region  age_group  bmi_group charges_cat charges_pred\n",
       "0    0       0       1          0          1      Medium       Medium\n",
       "1    0       0       1          0          1      Medium       Medium\n",
       "2    1       0       1          0          1      Medium       Medium\n",
       "3    0       0       3          0          1      Medium       Medium\n",
       "4    1       0       2          0          1         Low       Medium\n",
       "5    1       1       3          2          1        High         High\n",
       "6    1       0       2          0          1         Low       Medium\n",
       "7    0       1       0          0          0        High         High\n",
       "8    1       0       0          2          0         Low          Low\n",
       "9    0       0       2          0          2      Medium       Medium"
      ]
     },
     "execution_count": 13,
     "metadata": {},
     "output_type": "execute_result"
    }
   ],
   "source": [
    "df.head(10)"
   ]
  },
  {
   "cell_type": "code",
   "execution_count": null,
   "id": "c29c12da",
   "metadata": {},
   "outputs": [],
   "source": []
  }
 ],
 "metadata": {
  "kernelspec": {
   "display_name": "Python 3 (ipykernel)",
   "language": "python",
   "name": "python3"
  },
  "language_info": {
   "codemirror_mode": {
    "name": "ipython",
    "version": 3
   },
   "file_extension": ".py",
   "mimetype": "text/x-python",
   "name": "python",
   "nbconvert_exporter": "python",
   "pygments_lexer": "ipython3",
   "version": "3.9.0"
  }
 },
 "nbformat": 4,
 "nbformat_minor": 5
}
