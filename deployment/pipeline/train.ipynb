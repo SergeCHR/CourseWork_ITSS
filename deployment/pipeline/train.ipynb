{
 "cells": [
  {
   "cell_type": "code",
   "execution_count": 1,
   "id": "480ace2b",
   "metadata": {},
   "outputs": [],
   "source": [
    "import pickle\n",
    "import pandas as pd\n",
    "import numpy as np\n",
    "from sklearn.metrics import accuracy_score, recall_score, f1_score, roc_auc_score\n",
    "from sklearn.ensemble import RandomForestClassifier\n",
    "from sklearn.model_selection import train_test_split\n",
    "from sklearn.preprocessing import StandardScaler, LabelEncoder, label_binarize"
   ]
  },
  {
   "cell_type": "code",
   "execution_count": 2,
   "id": "2f2dca77",
   "metadata": {},
   "outputs": [],
   "source": [
    "# custom files\n",
    "\n",
    "import model_best_hyperparameters"
   ]
  },
  {
   "cell_type": "code",
   "execution_count": 3,
   "id": "dcc98486",
   "metadata": {},
   "outputs": [],
   "source": [
    "# read train data\n",
    "df = pd.read_csv(\"../data/train_data.csv\")"
   ]
  },
  {
   "cell_type": "code",
   "execution_count": 4,
   "id": "41fcd8c5",
   "metadata": {},
   "outputs": [],
   "source": [
    "# Створення нової колонки age_group\n",
    "age_bins = [0, 30, 60, np.inf]\n",
    "names = ['Youth', 'Adult', 'Senior']\n",
    "df['age_group'] = pd.cut(df['age'], age_bins, labels=names)\n",
    "\n",
    "# Створення нової колонки bmi_group\n",
    "weight_bins = [0, 18.5, 24.9, 29.9, np.inf]\n",
    "names = ['Underweight', 'Healthy weight', 'Overweight', 'Obese']\n",
    "df['bmi_group'] = pd.cut(df['bmi'], weight_bins, labels=names)\n",
    "\n",
    "# Розбиваємо charges на категорії\n",
    "charges_bins = [0, df['charges'].quantile(0.33), df['charges'].quantile(0.66), df['charges'].max()]\n",
    "names = ['Low', 'Medium', 'High']\n",
    "df['charges_cat'] = pd.cut(df['charges'], charges_bins, labels=names)"
   ]
  },
  {
   "cell_type": "code",
   "execution_count": 5,
   "id": "fe077045",
   "metadata": {},
   "outputs": [],
   "source": [
    "# Кодуємо категоріальні змінні\n",
    "le = LabelEncoder()\n",
    "for col in ['sex', 'smoker', 'region', 'age_group', 'bmi_group', 'charges_cat']:\n",
    "    df[col] = le.fit_transform(df[col])"
   ]
  },
  {
   "cell_type": "code",
   "execution_count": 6,
   "id": "40926e75",
   "metadata": {},
   "outputs": [],
   "source": [
    "# Видалення непотрібних стовпців\n",
    "columns_to_drop = ['age', 'bmi', 'children', 'charges']\n",
    "df = df.drop(columns_to_drop, axis=1)"
   ]
  },
  {
   "cell_type": "code",
   "execution_count": 7,
   "id": "4fe8ff10",
   "metadata": {},
   "outputs": [],
   "source": [
    "X = df.drop(['charges_cat'], axis=1)\n",
    "y = df['charges_cat']\n",
    "X_train, X_test, y_train, y_test = train_test_split(X, y, test_size=0.2, random_state=100, stratify=y)\n",
    "\n",
    "\n",
    "scaler = StandardScaler()\n",
    "X_train = scaler.fit_transform(X_train)\n",
    "X_test = scaler.transform(X_test)"
   ]
  },
  {
   "cell_type": "code",
   "execution_count": 12,
   "id": "d128e042",
   "metadata": {},
   "outputs": [
    {
     "name": "stdout",
     "output_type": "stream",
     "text": [
      "Accuracy:  0.8008298755186722\n",
      "Recall:  0.8023824225584028\n",
      "F1 Score:  0.8039935398619881\n",
      "ROC AUC:  0.8517637645087595\n"
     ]
    }
   ],
   "source": [
    "rf = RandomForestClassifier(**model_best_hyperparameters.params)\n",
    "\n",
    "# Тренуємо модель\n",
    "rf.fit(X_train, y_train)\n",
    "\n",
    "# Робимо прогнози\n",
    "y_pred = rf.predict(X_test)\n",
    "\n",
    "# Перетворюємо мітки в бінарний формат для розрахунку roc_auc\n",
    "y_test_bin = label_binarize(y_test, classes=[0, 1, 2])\n",
    "y_pred_bin = label_binarize(y_pred, classes=[0, 1, 2])\n",
    "\n",
    "# Обчислюємо метрики\n",
    "accuracy = accuracy_score(y_test, y_pred)\n",
    "recall = recall_score(y_test, y_pred, average='macro')\n",
    "f1 = f1_score(y_test, y_pred, average='macro')\n",
    "roc_auc = roc_auc_score(y_test_bin, y_pred_bin, average='macro', multi_class='ovr')\n",
    "\n",
    "# Виводимо метрики\n",
    "print('Accuracy: ', accuracy)\n",
    "print('Recall: ', recall)\n",
    "print('F1 Score: ', f1)\n",
    "print('ROC AUC: ', roc_auc)"
   ]
  },
  {
   "cell_type": "code",
   "execution_count": 13,
   "id": "f60f31ad",
   "metadata": {},
   "outputs": [],
   "source": [
    "filename = 'finalized_model.sav'\n",
    "pickle.dump(rf, open(filename, 'wb'))"
   ]
  },
  {
   "cell_type": "code",
   "execution_count": null,
   "id": "cb120f4e",
   "metadata": {},
   "outputs": [],
   "source": []
  }
 ],
 "metadata": {
  "kernelspec": {
   "display_name": "Python 3 (ipykernel)",
   "language": "python",
   "name": "python3"
  },
  "language_info": {
   "codemirror_mode": {
    "name": "ipython",
    "version": 3
   },
   "file_extension": ".py",
   "mimetype": "text/x-python",
   "name": "python",
   "nbconvert_exporter": "python",
   "pygments_lexer": "ipython3",
   "version": "3.9.0"
  }
 },
 "nbformat": 4,
 "nbformat_minor": 5
}
